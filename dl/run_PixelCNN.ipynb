{
 "cells": [
  {
   "cell_type": "code",
   "execution_count": 1,
   "metadata": {},
   "outputs": [
    {
     "name": "stdout",
     "output_type": "stream",
     "text": [
      "\n",
      "WARNING: The TensorFlow contrib module will not be included in TensorFlow 2.0.\n",
      "For more information, please see:\n",
      "  * https://github.com/tensorflow/community/blob/master/rfcs/20180907-contrib-sunset.md\n",
      "  * https://github.com/tensorflow/addons\n",
      "If you depend on functionality not listed there, please file an issue.\n",
      "\n"
     ]
    }
   ],
   "source": [
    "import tensorflow as tf\n",
    "import numpy as np\n",
    "import pickle\n",
    "from PixelCNN import PixelCNN\n",
    "from train import Trainer\n",
    "import matplotlib.pyplot as plt\n",
    "np.random.seed(0)\n",
    "tf.set_random_seed(0)"
   ]
  },
  {
   "cell_type": "code",
   "execution_count": 2,
   "metadata": {},
   "outputs": [],
   "source": [
    "with open('dataset/mnist-hw1.pkl', 'rb') as f:\n",
    "    data = pickle.load(f)\n",
    "data_train = data['train']\n",
    "data_test = data['test']\n",
    "\n",
    "IMG_SIZE = (28, 28, 3)\n",
    "COLOR_DIM = 4"
   ]
  },
  {
   "cell_type": "code",
   "execution_count": null,
   "metadata": {
    "scrolled": false
   },
   "outputs": [
    {
     "name": "stdout",
     "output_type": "stream",
     "text": [
      "building training graph...\n",
      "WARNING:tensorflow:From /home/yunzhi/anaconda3/lib/python3.7/site-packages/tensorflow/python/framework/op_def_library.py:263: colocate_with (from tensorflow.python.framework.ops) is deprecated and will be removed in a future version.\n",
      "Instructions for updating:\n",
      "Colocations handled automatically by placer.\n",
      "WARNING:tensorflow:From /home/yunzhi/anaconda3/lib/python3.7/site-packages/tensorflow/python/ops/math_ops.py:3066: to_int32 (from tensorflow.python.ops.math_ops) is deprecated and will be removed in a future version.\n",
      "Instructions for updating:\n",
      "Use tf.cast instead.\n",
      "building inference graph...\n",
      "\n",
      "--------- epoch 0 --------\n",
      "at epoch 0 0.71075636 0.2727811\n"
     ]
    },
    {
     "name": "stderr",
     "output_type": "stream",
     "text": [
      "\r",
      "0% [#                             ] 100% | ETA: 01:19:38"
     ]
    },
    {
     "name": "stdout",
     "output_type": "stream",
     "text": [
      "\n",
      "--------- epoch 1 --------\n",
      "at epoch 1 0.1567884 0.08550352\n",
      "\n",
      "--------- epoch 2 --------\n"
     ]
    },
    {
     "name": "stderr",
     "output_type": "stream",
     "text": [
      "\r",
      "0% [##                            ] 100% | ETA: 01:54:06"
     ]
    },
    {
     "name": "stdout",
     "output_type": "stream",
     "text": [
      "at epoch 2 0.07934418 0.10297335\n",
      "\n",
      "--------- epoch 3 --------\n"
     ]
    },
    {
     "name": "stderr",
     "output_type": "stream",
     "text": [
      "\r",
      "0% [###                           ] 100% | ETA: 01:59:07"
     ]
    },
    {
     "name": "stdout",
     "output_type": "stream",
     "text": [
      "at epoch 3 0.053691927 0.024248451\n",
      "\n",
      "--------- epoch 4 --------\n",
      "at epoch 4 0.034743886 0.09356377\n",
      "\n",
      "--------- epoch 5 --------\n"
     ]
    }
   ],
   "source": [
    "tf.reset_default_graph()\n",
    "model = PixelCNN(\n",
    "    img_size=IMG_SIZE,\n",
    "    color_dim=COLOR_DIM,\n",
    "    visualize_batch=data_test[:5],\n",
    ")\n",
    "trainer = Trainer(\n",
    "    model,\n",
    "    data_train,\n",
    "    data_test,\n",
    "    n_epochs=50,\n",
    "    show_progress_per_epoch=1,\n",
    ")\n",
    "\n",
    "trainer.train()\n",
    "plt.show()"
   ]
  },
  {
   "cell_type": "code",
   "execution_count": null,
   "metadata": {
    "scrolled": false
   },
   "outputs": [],
   "source": [
    "from utils import *\n",
    "with trainer.sess.as_default():\n",
    "    images = model.generate_images(10)/COLOR_DIM\n",
    "    display_images(images, 2, 5)"
   ]
  },
  {
   "cell_type": "code",
   "execution_count": null,
   "metadata": {},
   "outputs": [],
   "source": []
  }
 ],
 "metadata": {
  "kernelspec": {
   "display_name": "Python 3",
   "language": "python",
   "name": "python3"
  },
  "language_info": {
   "codemirror_mode": {
    "name": "ipython",
    "version": 3
   },
   "file_extension": ".py",
   "mimetype": "text/x-python",
   "name": "python",
   "nbconvert_exporter": "python",
   "pygments_lexer": "ipython3",
   "version": "3.7.3"
  }
 },
 "nbformat": 4,
 "nbformat_minor": 2
}
